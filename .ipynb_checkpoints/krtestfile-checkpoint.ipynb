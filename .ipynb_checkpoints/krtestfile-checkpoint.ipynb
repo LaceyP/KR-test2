{
 "cells": [
  {
   "cell_type": "raw",
   "metadata": {
    "slideshow": {
     "slide_type": "slide"
    }
   },
   "source": [
    "---\n",
    "title: LP test\n",
    "authors:\n",
    "- lacey.plache@patientpop.com\n",
    "tags:\n",
    "- test\n",
    "- example\n",
    "thumbnail: \n",
    "created_at: 2018-08-22\n",
    "updated_at: 2018-08-22\n",
    "tldr: This is Lacey's epic test.\n",
    "---"
   ]
  },
  {
   "cell_type": "code",
   "execution_count": 1,
   "metadata": {},
   "outputs": [],
   "source": [
    "#file to test Knowledge Repo"
   ]
  },
  {
   "cell_type": "code",
   "execution_count": 2,
   "metadata": {},
   "outputs": [
    {
     "name": "stdout",
     "output_type": "stream",
     "text": [
      "Requirement already satisfied: sshtunnel==0.1.3 in /home/pp_datascientist/conda/lib/python3.6/site-packages\n",
      "Requirement already satisfied: paramiko>=1.15.2 in /home/pp_datascientist/conda/lib/python3.6/site-packages (from sshtunnel==0.1.3)\n",
      "Requirement already satisfied: bcrypt>=3.1.3 in /home/pp_datascientist/conda/lib/python3.6/site-packages (from paramiko>=1.15.2->sshtunnel==0.1.3)\n",
      "Requirement already satisfied: pyasn1>=0.1.7 in /home/pp_datascientist/conda/lib/python3.6/site-packages (from paramiko>=1.15.2->sshtunnel==0.1.3)\n",
      "Requirement already satisfied: pynacl>=1.0.1 in /home/pp_datascientist/conda/lib/python3.6/site-packages (from paramiko>=1.15.2->sshtunnel==0.1.3)\n",
      "Requirement already satisfied: cryptography>=1.5 in /home/pp_datascientist/conda/lib/python3.6/site-packages (from paramiko>=1.15.2->sshtunnel==0.1.3)\n",
      "Requirement already satisfied: cffi>=1.1 in /home/pp_datascientist/conda/lib/python3.6/site-packages (from bcrypt>=3.1.3->paramiko>=1.15.2->sshtunnel==0.1.3)\n",
      "Requirement already satisfied: six>=1.4.1 in /home/pp_datascientist/conda/lib/python3.6/site-packages (from bcrypt>=3.1.3->paramiko>=1.15.2->sshtunnel==0.1.3)\n",
      "Requirement already satisfied: idna>=2.1 in /home/pp_datascientist/conda/lib/python3.6/site-packages (from cryptography>=1.5->paramiko>=1.15.2->sshtunnel==0.1.3)\n",
      "Requirement already satisfied: asn1crypto>=0.21.0 in /home/pp_datascientist/conda/lib/python3.6/site-packages (from cryptography>=1.5->paramiko>=1.15.2->sshtunnel==0.1.3)\n",
      "Requirement already satisfied: pycparser in /home/pp_datascientist/conda/lib/python3.6/site-packages (from cffi>=1.1->bcrypt>=3.1.3->paramiko>=1.15.2->sshtunnel==0.1.3)\n",
      "\u001b[33mYou are using pip version 9.0.1, however version 18.0 is available.\n",
      "You should consider upgrading via the 'pip install --upgrade pip' command.\u001b[0m\n"
     ]
    }
   ],
   "source": [
    "!pip install sshtunnel==0.1.3"
   ]
  },
  {
   "cell_type": "code",
   "execution_count": 3,
   "metadata": {},
   "outputs": [
    {
     "name": "stderr",
     "output_type": "stream",
     "text": [
      "/home/pp_datascientist/conda/lib/python3.6/site-packages/psycopg2/__init__.py:144: UserWarning: The psycopg2 wheel package will be renamed from release 2.8; in order to keep installing from binary please use \"pip install psycopg2-binary\" instead. For details see: <http://initd.org/psycopg/docs/install.html#binary-install-from-pypi>.\n",
      "  \"\"\")\n"
     ]
    }
   ],
   "source": [
    "import pandas as pd\n",
    "from pandas.api.types import is_numeric_dtype\n",
    "import numpy as np\n",
    "import pickle\n",
    "import psycopg2\n",
    "from sshtunnel import SSHTunnelForwarder\n",
    "from datetime import datetime, date\n",
    "from dateutil.relativedelta import relativedelta\n",
    "\n",
    "orig_col_display = pd.options.display.max_columns\n",
    "orig_row_display = pd.options.display.max_rows"
   ]
  },
  {
   "cell_type": "code",
   "execution_count": 4,
   "metadata": {},
   "outputs": [],
   "source": [
    "with open('/Code/creds/bastion.pickle', 'rb') as handle:\n",
    "    bastion = pickle.load(handle)\n",
    "    \n",
    "with open('/Code/creds/datawarehouse.pickle', 'rb') as handle:\n",
    "    datawarehouse = pickle.load(handle)\n",
    "    \n",
    "with open('/Code/creds/sshcred.pickle', 'rb') as handle:\n",
    "    sshcred = pickle.load(handle)"
   ]
  },
  {
   "cell_type": "code",
   "execution_count": 5,
   "metadata": {},
   "outputs": [],
   "source": [
    "def redshift_ssh_query(query, \n",
    "                       db_name, db_user, db_pwd, db_host, db_port,\n",
    "                       ssh_host, ssh_port,\n",
    "                       ssh_username, ssh_private_key_file=None, ssh_private_key_password=None, ssh_password=None,\n",
    "                       remote_bind_host='localhost', remote_bind_port=5432,\n",
    "                       local_bind_host='localhost', local_bind_port=5432):\n",
    "    \n",
    "    \"\"\"\n",
    "    Runs the specified query on a database through an SSH tunnel\n",
    "    \n",
    "    Inputs:\n",
    "        db_* - database credentials, host, and port\n",
    "        Note that because we're tunneling through ssh, host should be localhost\n",
    "        rather than the actual db host\n",
    "        \n",
    "        ssh_* - ssh server credentials, host, and port\n",
    "        \n",
    "        remote_bind_* - The remote host and port\n",
    "        In this use-case the actual database host and port\n",
    "    \"\"\"\n",
    "    \n",
    "    ssh_tunnel_params = {\n",
    "        'ssh_username': ssh_username,\n",
    "        'remote_bind_address': (remote_bind_host, remote_bind_port),\n",
    "        'local_bind_address': (local_bind_host, local_bind_port)        \n",
    "    }\n",
    "    \n",
    "    if ssh_private_key_file is not None:\n",
    "        ssh_tunnel_params['ssh_pkey'] = ssh_private_key_file\n",
    "    \n",
    "    if ssh_private_key_password is not None:\n",
    "        ssh_tunnel_params['ssh_private_key_password'] = ssh_private_key_password   \n",
    "        \n",
    "    if ssh_password is not None:\n",
    "        ssh_tunnel_params['ssh_password'] = ssh_password\n",
    "\n",
    "    with SSHTunnelForwarder((ssh_host, ssh_port), **ssh_tunnel_params) as server:\n",
    "\n",
    "        server.start()\n",
    "        print(\"Connected to SSH Server\")\n",
    "\n",
    "        conn_params = {\n",
    "            'database': db_name,\n",
    "            'user': db_user,\n",
    "            'password': db_pwd,\n",
    "            'host': db_host,\n",
    "            'port': db_port\n",
    "         }\n",
    "\n",
    "        conn = psycopg2.connect(**conn_params)\n",
    "        print(\"Connected to Database\")\n",
    "        \n",
    "        print(\"Executing Query...\")\n",
    "        df = pd.read_sql(query, conn)\n",
    "        print(\"Query Completed\")\n",
    "        \n",
    "        conn.close()\n",
    "        print(\"Closed Database Connection\")\n",
    "        \n",
    "        server.stop()\n",
    "        print(\"Closed SSH Server Connection\")\n",
    "            \n",
    "        return df \n"
   ]
  },
  {
   "cell_type": "code",
   "execution_count": 6,
   "metadata": {},
   "outputs": [],
   "source": [
    "#format to write a query\n",
    "query = \"\"\"\n",
    "--REVIEWS AND RATINGS\n",
    "--BASED ON UPDATED VERSION FROM DG 8-8, THEN FROM PY 8-9\n",
    "--keeping only practices with reviews in both pre and post periods and >3 mos post data\n",
    "select rg2.*\n",
    "from --calculate avg # rev per month per practice\n",
    "    (select rg.pid ::integer, rg.pname, rg.launchdate, rg.integrated, rg.disable_online_booking, rg.specialties,\n",
    "       rg.num_docs, rg.n_paid2, rg.n_unpaid2, rg.optout,\n",
    "\n",
    "      --# of mos with reviews per practice\n",
    "        count(CASE WHEN rg.n_reviews_pre >0 THEN rg.n_reviews_pre END) as nmos_rev_pre,\n",
    "        count(CASE WHEN rg.n_reviews_post >0 THEN rg.n_reviews_post END) as nmos_rev_post,\n",
    "\n",
    "      --avg # of reviews per month per practice\n",
    "        avg(CASE WHEN rg.n_reviews_pre >0 THEN rg.n_reviews_pre END) as avg_n_rev_pre,\n",
    "        avg(CASE WHEN rg.n_reviews_post >0 THEN rg.n_reviews_post END) as avg_n_rev_post,\n",
    "\n",
    "       --difference in new rev counts per month pre to post per practice\n",
    "        avg(CASE WHEN rg.n_reviews_post >0 THEN rg.n_reviews_post END)\n",
    "        - avg(CASE WHEN rg.n_reviews_pre >0 THEN rg.n_reviews_pre END) as diff_rev_per_mo,\n",
    "\n",
    "       --growth rate from pre to post for avg # reviews added per practice monthly\n",
    "        Round((((avg(CASE WHEN rg.n_reviews_post >0 THEN rg.n_reviews_post END)) ::numeric\n",
    "            - (avg(CASE WHEN rg.n_reviews_pre >0 THEN rg.n_reviews_pre END)) ::numeric)\n",
    "         / (avg(CASE WHEN rg.n_reviews_pre >0 THEN rg.n_reviews_pre END))::numeric), 2) as chg_rev_per_mo,\n",
    "\n",
    "      --pre total reviews\n",
    "        sum(rg.n_reviews_pre) as tot_pre_rev,\n",
    "\n",
    "      --pre + post total reviews\n",
    "        sum(rg.n_reviews_pre + rg.n_reviews_post) as tot_prepost_rev,\n",
    "\n",
    "      --extrapolated post total pre + avg per mo * n_post_mos\n",
    "        sum(rg.n_reviews_pre) +\n",
    "        (avg(CASE WHEN rg.n_reviews_post >0 THEN rg.n_reviews_post END) *\n",
    "        count(CASE WHEN rg.n_reviews_post >0 THEN rg.n_reviews_post END)) as extrap_post,\n",
    "\n",
    "      --avg rating per month per practice\n",
    "        avg(CASE WHEN rg.mo_rating_pre >0 and rg.mo_rating_pre notnull THEN rg.mo_rating_pre END) as avg_mo_rating_pre,\n",
    "        avg(CASE WHEN rg.mo_rating_post >0 and rg.mo_rating_post notnull THEN rg.mo_rating_post END) as avg_mo_rating_post,\n",
    "\n",
    "      --difference in avg rating per month pre to post per practice\n",
    "        avg(CASE WHEN rg.mo_rating_post >0 and rg.mo_rating_post notnull THEN rg.mo_rating_post END)\n",
    "          - avg(CASE WHEN rg.mo_rating_pre >0 and rg.mo_rating_pre notnull THEN rg.mo_rating_pre END) as diff_avg_mo_rating,\n",
    "\n",
    "      --avg rating for all reviews per practice over entire pre and entire post periods\n",
    "        Round(sum(rg.sum_rating_mo_pre) ::numeric / sum(rg.n_reviews_pre)::numeric, 1) as avg_rating_pre,\n",
    "        Round(sum(rg.sum_rating_mo_post) ::numeric / sum(rg.n_reviews_post) ::numeric, 1) as avg_rating_post,\n",
    "\n",
    "      --Estimated overall avg rating for all reviews after 6 mos post =\n",
    "       -- # [Avg rating all pre *(#rev pre) + avg rating all post*(avg # rev per mo post *6)]  / (# rev pre + avg# per mo post*6)\n",
    "       Round(((Round(sum(rg.sum_rating_mo_pre) :: numeric / sum(rg.n_reviews_pre) :: numeric, 1) * sum(rg.n_reviews_pre))\n",
    "       + (Round(sum(rg.sum_rating_mo_post) ::numeric / sum(rg.n_reviews_post) ::numeric, 1) *\n",
    "        (avg(CASE WHEN rg.n_reviews_post >0 THEN rg.n_reviews_post END)*6)))\n",
    "         / (sum(rg.n_reviews_pre) + (avg(CASE WHEN rg.n_reviews_post >0 THEN rg.n_reviews_post END)*6)), 1) as avg_rating_pp6,\n",
    "\n",
    "       --difference in avg rating for all reviews per practice over entire pre and entire post periods\n",
    "       -- = avg_rating_post - avg_rating_pre\n",
    "        Round(sum(rg.sum_rating_mo_post) ::numeric / sum(rg.n_reviews_post) ::numeric, 1)\n",
    "          - Round(sum(rg.sum_rating_mo_pre) ::numeric / sum(rg.n_reviews_pre)::numeric, 1) as diff_avg_rating,\n",
    "\n",
    "       --difference in avg rating for all reviews per practice over entire pre and entire pre-6mpost periods\n",
    "       -- = avg_rating_pp6 - avg_rating_pre\n",
    "       Round ((((Round(sum(rg.sum_rating_mo_pre) :: numeric / sum(rg.n_reviews_pre) :: numeric, 1) * sum(rg.n_reviews_pre))\n",
    "          + (Round(sum(rg.sum_rating_mo_post) ::numeric / sum(rg.n_reviews_post) ::numeric, 1) *\n",
    "            (avg(CASE WHEN rg.n_reviews_post >0 THEN rg.n_reviews_post END)*6)))\n",
    "          / (sum(rg.n_reviews_pre) + (avg(CASE WHEN rg.n_reviews_post >0 THEN rg.n_reviews_post END)*6)))\n",
    "        - Round(sum(rg.sum_rating_mo_pre) ::numeric / sum(rg.n_reviews_pre)::numeric, 1), 1) as diff_avg_rating_pp6,\n",
    "\n",
    "      --avg monthly share of 5 star reviews per practice\n",
    "        avg(CASE WHEN rg.pct_5stars_pre notnull THEN rg.pct_5stars_pre END) as avg_mo_pct_5stars_pre,\n",
    "        avg(CASE WHEN rg.pct_5stars_post notnull THEN rg.pct_5stars_post END) as avg_mo_pct_5stars_post,\n",
    "\n",
    "      --difference avg monthly share of 5 star reviews per practice\n",
    "        avg(CASE WHEN rg.pct_5stars_post notnull THEN rg.pct_5stars_post END)\n",
    "        - avg(CASE WHEN rg.pct_5stars_pre notnull THEN rg.pct_5stars_pre END) as diff_avg_mo_pct_5stars,\n",
    "\n",
    "      --dividing num docs into bins\n",
    "        CASE WHEN rg.num_docs=1 THEN 'A: 1'\n",
    "           WHEN rg.num_docs>=2 and rg.num_docs<=5 THEN 'B: 2-5'\n",
    "           WHEN rg.num_docs>=6 and rg.num_docs<=9 THEN 'C: 6-9'\n",
    "           ELSE 'D: 10+' END as provider_bins,\n",
    "\n",
    "       --dividing n_paid2 into bins\n",
    "        CASE WHEN rg.n_paid2=0 THEN '0'\n",
    "           WHEN rg.n_paid2=1 THEN 'A: 1'\n",
    "           WHEN rg.n_paid2>=2 and rg.n_paid2<=5 THEN 'B: 2-5'\n",
    "           WHEN rg.n_paid2>=6 and rg.n_paid2<=9 THEN 'C: 6-9'\n",
    "           ELSE 'D: 10+' END as paid_provider_bins,\n",
    "\n",
    "       --dividing n_unpaid2 into bins\n",
    "         CASE WHEN rg.n_unpaid2 <=0 THEN '0'\n",
    "             WHEN rg.n_unpaid2 =1 THEN '1'\n",
    "             ELSE '2+' END as unpaid_bins\n",
    "\n",
    "    from --calculate monthly shares of 5-star reviews by practice (done separately to screen out months with 0 reviews -> denom=0 issue)\n",
    "        (select rg1.*,\n",
    "          --Monthly shares of 5-star reviews\n",
    "           Round((CASE WHEN rg1.n_reviews_pre>0 THEN rg1.n_5stars_pre ELSE NULL END) ::numeric\n",
    "            / (CASE WHEN rg1.n_reviews_pre>0 THEN rg1.n_reviews_pre ELSE NULL END) ::numeric, 2) as pct_5stars_pre,\n",
    "\n",
    "           Round((CASE WHEN rg1.n_reviews_post>0 THEN rg1.n_5stars_post ELSE NULL END) ::numeric\n",
    "            / (CASE WHEN rg1.n_reviews_post>0 THEN rg1.n_reviews_post ELSE NULL END) ::numeric, 2) as pct_5stars_post   \n",
    "\n",
    "         from --review counts for pre and post period by practice and month\n",
    "          (select distinct\n",
    "              r.pid,\n",
    "              r.pname,\n",
    "              r.launchdate,\n",
    "              r.integrated,\n",
    "              p.disable_online_booking,\n",
    "              r.specialties,\n",
    "              r.num_docs,\n",
    "              p.n_paid,\n",
    "              p.n_unpaid,\n",
    "              p.optout,\n",
    "\n",
    "            --fill in missing n_paid drs with 0\n",
    "              CASE WHEN p.n_paid isnull and r.num_docs>0 THEN 0\n",
    "              ELSE p.n_paid END as n_paid2,\n",
    "\n",
    "            --fill in missing n_unpaid drs with 0\n",
    "              CASE WHEN p.n_unpaid isnull and r.num_docs>0 THEN 0\n",
    "              ELSE p.n_unpaid END as n_unpaid2,\n",
    "\n",
    "            --Year and month of review\n",
    "              left(r.date, 7) as rev_yrmo,\n",
    "\n",
    "            --Monthly review counts\n",
    "              count(CASE WHEN r.date >= '2017-10-01' AND r.launchdate < '2017-10-01' THEN r.id\n",
    "                    WHEN r.date >= r.launchdate and r.launchdate >= '2017-10-01' THEN r.id  END) as n_reviews_post,\n",
    "              count(CASE WHEN r.date < '2017-10-01' AND r.launchdate < '2017-10-01' THEN r.id\n",
    "                    WHEN r.date < r.launchdate and r.launchdate >= '2017-10-01' THEN r.id END) as n_reviews_pre,\n",
    "\n",
    "            --Monthly counts of 5-star reviews\n",
    "            count(CASE WHEN r.date >= '2017-10-01' AND r.launchdate < '2017-10-01' AND r.rating=5 THEN r.id\n",
    "                    WHEN r.date >= r.launchdate and r.launchdate >= '2017-10-01' AND r.rating=5 THEN r.id END) as n_5stars_post,\n",
    "            count(CASE WHEN r.date < '2017-10-01' AND r.launchdate < '2017-10-01' AND r.rating=5 THEN r.id\n",
    "                    WHEN r.date < r.launchdate and r.launchdate >= '2017-10-01' AND r.rating=5 THEN r.id END) as n_5stars_pre,\n",
    "\n",
    "             --Monthly avg ratings\n",
    "              avg(CASE WHEN r.date >= '2017-10-01' AND r.launchdate < '2017-10-01' THEN r.rating\n",
    "                    WHEN r.date >= r.launchdate and r.launchdate >= '2017-10-01' THEN r.rating END) as mo_rating_post,\n",
    "              avg(CASE WHEN r.date < '2017-10-01' AND r.launchdate < '2017-10-01' THEN r.rating\n",
    "                    WHEN r.date < r.launchdate and r.launchdate >= '2017-10-01' THEN r.rating END) as mo_rating_pre,\n",
    "\n",
    "            --Monthly sum of rating values (for avg of all pre and post calculation above)\n",
    "              sum(CASE WHEN r.date >= '2017-10-01' AND r.launchdate < '2017-10-01' THEN r.rating\n",
    "                    WHEN r.date >= r.launchdate and r.launchdate >= '2017-10-01' THEN r.rating END) as sum_rating_mo_post,\n",
    "              sum(CASE WHEN r.date < '2017-10-01' AND r.launchdate < '2017-10-01' THEN r.rating\n",
    "                    WHEN r.date < r.launchdate and r.launchdate >= '2017-10-01' THEN r.rating END) as sum_rating_mo_pre\n",
    "\n",
    "            from pp.es_reviews r\n",
    "                 INNER JOIN (select p1.id, p1.name, p1.num_docs, d13.n_docs, d11.n_paid, d22.n_unpaid, p1.disable_online_booking, oo1.optout\n",
    "                            from pp_patientpop.practices p1\n",
    "                                 left join (select d1.practice_id, count(d1.practice_id) as n_paid --note: this makes n_paid = null when no docs with paid=1\n",
    "                                            from pp_patientpop.doctors d1\n",
    "                                            where d1._fivetran_deleted = false and d1.paid is true\n",
    "                                            group by d1.practice_id\n",
    "                                            order by d1.practice_id) d11\n",
    "                                 on p1.id=d11.practice_id\n",
    "                                 left join (select d2.practice_id, count(d2.practice_id) as n_unpaid --note: this makes n_unpaid = null when no docs with paid=0\n",
    "                                            from pp_patientpop.doctors d2\n",
    "                                            where d2._fivetran_deleted = false and d2.paid is false\n",
    "                                            group by d2.practice_id\n",
    "                                            order by d2.practice_id) d22\n",
    "                                 on p1.id=d22.practice_id\n",
    "                                 left join (select d13.practice_id, count(d13.practice_id) as n_docs --should not be any nulls\n",
    "                                            from pp_patientpop.doctors d13\n",
    "                                            where d13._fivetran_deleted = false\n",
    "                                            group by d13.practice_id\n",
    "                                            order by d13.practice_id) d13\n",
    "                                 on p1.id=d13.practice_id\n",
    "                                 left join (select oo.practice_id, \n",
    "                                                   CASE WHEN (oo.n_messages=oo.optout1) THEN 1 ELSE 0 END AS optout --creates flag for sms optouts (email only)\n",
    "                                            from (select practice_id, count(practice_id) as n_messages,\n",
    "                                                  sum(CASE WHEN channel='email' THEN 1 ELSE 0 END) as optout1\n",
    "                                                  from pp_patientpop.quality_survey_settings\n",
    "                                                  where _fivetran_deleted=false\n",
    "                                                        and type='real_time_appointment'\n",
    "                                                  group by practice_id) as oo\n",
    "                                            ) as oo1\n",
    "                                 on p1.id=oo1.practice_id\n",
    "                            where p1._fivetran_deleted = false and p1.test_account=0 and p1.active=true and p1.launchdate notnull\n",
    "                            --and (p1.num_docs notnull and d13.n_docs isnull) --162 active+launched practices with 0 drs in the drs table\n",
    "                            ) as p\n",
    "                 on r.pid=p.id\n",
    "\n",
    "            where r.to_delete = false\n",
    "                  and r.site != 'PatientPop'\n",
    "                  and r.termination_date isnull\n",
    "                  and r.launchdate notnull\n",
    "                  and p.n_docs notnull --dropping 162 practices with 0 drs in the drs table\n",
    "            group by r.pid, r.pname, r.launchdate, r.integrated, p.disable_online_booking, r.specialties, r.num_docs, p.n_paid, p.n_unpaid, \n",
    "                     p.optout, left(r.date, 7)\n",
    "            order by r.num_docs, r.pid, rev_yrmo) as rg1\n",
    "        order by pid, rev_yrmo) as rg\n",
    "    group by rg.pid, rg.pname, rg.launchdate, rg.integrated, rg.disable_online_booking, rg.specialties, rg.num_docs, rg.num_docs, rg.n_paid2, \n",
    "             rg.n_unpaid2, rg.optout\n",
    "    order by rg.pid) as rg2\n",
    "where rg2.avg_n_rev_post notnull and rg2.avg_n_rev_pre notnull and rg2.nmos_rev_post>3\n",
    "order by rg2.pid\n",
    ";\n",
    "\"\"\""
   ]
  },
  {
   "cell_type": "code",
   "execution_count": 7,
   "metadata": {},
   "outputs": [
    {
     "name": "stdout",
     "output_type": "stream",
     "text": [
      "Connected to SSH Server\n",
      "Connected to Database\n",
      "Executing Query...\n",
      "Query Completed\n",
      "Closed Database Connection\n",
      "Closed SSH Server Connection\n"
     ]
    }
   ],
   "source": [
    "#to run any query\n",
    "df = redshift_ssh_query(query, \n",
    "                        db_name=datawarehouse['db_name'], \n",
    "                        db_user=datawarehouse['db_user'], \n",
    "                        db_pwd=datawarehouse['db_pwd'], \n",
    "                        db_host='localhost', \n",
    "                        db_port=datawarehouse['db_port'],\n",
    "                        ssh_host=bastion['host'],\n",
    "                        ssh_port=bastion['port'],\n",
    "                        ssh_username=bastion['user_name'], \n",
    "                        ssh_private_key_file=sshcred['ssh_keyfile'],\n",
    "                        ssh_private_key_password = sshcred['ssh_passphrase'],\n",
    "                        remote_bind_host=datawarehouse['db_host'],\n",
    "                        remote_bind_port=datawarehouse['db_port'],\n",
    "                        local_bind_host='localhost', \n",
    "                        local_bind_port=datawarehouse['db_port'])"
   ]
  },
  {
   "cell_type": "code",
   "execution_count": null,
   "metadata": {
    "slideshow": {
     "slide_type": "-"
    }
   },
   "outputs": [],
   "source": [
    "#df.head(5)\n",
    "display(df.iloc[0:5,0:11])\n",
    "display(df.iloc[0:5,11:16])\n",
    "display(df.iloc[0:5,16:24])\n",
    "display(df.iloc[0:5,24:])"
   ]
  },
  {
   "cell_type": "markdown",
   "metadata": {
    "slideshow": {
     "slide_type": "subslide"
    }
   },
   "source": [
    "# PP Practices with Unpaid Seats"
   ]
  },
  {
   "cell_type": "markdown",
   "metadata": {
    "slideshow": {
     "slide_type": "subslide"
    }
   },
   "source": [
    "The vast majority of PP practices have no unpaid seats, but this is not surprising since the most PP practices are single provider practices. For practices that do have unpaid seats, it is most common to have 1 unpaid seat. "
   ]
  },
  {
   "cell_type": "code",
   "execution_count": 28,
   "metadata": {
    "slideshow": {
     "slide_type": "subslide"
    }
   },
   "outputs": [
    {
     "data": {
      "image/png": "[encoded data removed]",
      "text/plain": [
       "<Figure size 432x288 with 1 Axes>"
      ]
     },
     "metadata": {},
     "output_type": "display_data"
    }
   ],
   "source": [
    "import matplotlib.pyplot as plt\n",
    "\n",
    "xbins=range(0, df['n_unpaid2'].max()+5)\n",
    "plt.hist(df['n_unpaid2'], bins=xbins, color='red')\n",
    "plt.xlabel('# Unpaid Seats')\n",
    "plt.ylabel('# Practices')\n",
    "plt.show()"
   ]
  },
  {
   "cell_type": "code",
   "execution_count": null,
   "metadata": {},
   "outputs": [],
   "source": []
  }
 ],
 "metadata": {
  "kernelspec": {
   "display_name": "Python 3",
   "language": "python",
   "name": "python3"
  },
  "language_info": {
   "codemirror_mode": {
    "name": "ipython",
    "version": 3
   },
   "file_extension": ".py",
   "mimetype": "text/x-python",
   "name": "python",
   "nbconvert_exporter": "python",
   "pygments_lexer": "ipython3",
   "version": "3.6.4"
  }
 },
 "nbformat": 4,
 "nbformat_minor": 2
}
